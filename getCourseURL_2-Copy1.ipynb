{
 "cells": [
  {
   "cell_type": "markdown",
   "metadata": {},
   "source": [
    "# Import selenium"
   ]
  },
  {
   "cell_type": "code",
   "execution_count": 2,
   "metadata": {},
   "outputs": [],
   "source": [
    "from selenium import webdriver\n",
    "from selenium.webdriver.common.keys import Keys\n",
    "from requests_html import HTML\n",
    "import time"
   ]
  },
  {
   "cell_type": "markdown",
   "metadata": {},
   "source": [
    "# Tạo browser"
   ]
  },
  {
   "cell_type": "code",
   "execution_count": 3,
   "metadata": {},
   "outputs": [],
   "source": []
  },
  {
   "cell_type": "markdown",
   "metadata": {},
   "source": [
    "# Base_url của trang web cần crawl\n",
    "Đây là trang web kết quả khi search từ khóa management được lọc lại với điều kiện Learning product là Courses, Specializations và Professional Certificates. Lý do chọn các loại sản phẩm này là vì các sản phẩm khác không có số lượng người đăng ký, nhãn mà tụi em muốn dự đoán "
   ]
  },
  {
   "cell_type": "code",
   "execution_count": 4,
   "metadata": {},
   "outputs": [],
   "source": [
    "base_url = \"https://www.coursera.org/search?query=management&facets=skillNameMultiTag%2CjobTitleMultiTag%2CdifficultyLevel\\\n",
    "Tag%2Clanguages%2CentityTypeTag%3ACourses%2CpartnerMultiTag%2CcategoryMultiTag%3Abusiness%2CsubcategoryMultiTag&\\\n",
    "sortField=&page={0}&configure%5BclickAnalytics%5D=true&indices%5Bprod_all_products_term_optimization%5D%5BrefinementList%5D%5\\\n",
    "BentityTypeDescription%5D%5B0%5D=Courses&indices%5Bprod_all_products_term_optimization%5D%5BrefinementList%5D%5\\\n",
    "BentityTypeDescription%5D%5B1%5D=Specializations&indices%5Bprod_all_products_term_optimization%5D%5BrefinementList%5D%5\\\n",
    "BentityTypeDescription%5D%5B2%5D=Professional%20Certificates&indices%5Bprod_all_products_term_optimization%5D%5Bpage%5D=1&indices%5B\\\n",
    "prod_all_products_term_optimization%5D%5Bconfigure%5D%5BclickAnalytics%5D=true&indices%5Bprod_all_products_term_optimization%5D%5B\\\n",
    "configure%5D%5BhitsPerPage%5D=10\""
   ]
  },
  {
   "cell_type": "markdown",
   "metadata": {},
   "source": [
    "# Lấy đường link đến các khóa học\n",
    "Ta thấy trang kết quả có 100 trang nên ta sẽ cho chạy qua hết 100 trang này"
   ]
  },
  {
   "cell_type": "code",
   "execution_count": 10,
   "metadata": {},
   "outputs": [
    {
     "name": "stdout",
     "output_type": "stream",
     "text": [
      "link 1 len 10\n",
      "/specializations/strategic-leadership\n",
      "/specializations/leading-teams\n",
      "/specializations/project-management\n",
      "/learn/people-management\n",
      "/learn/uva-darden-project-management\n",
      "/learn/international-organizations-management\n",
      "/specializations/wharton-entrepreneurship\n",
      "/learn/management-fundamentals-healthcare-administrators\n",
      "/specializations/healthcare-organization-operations\n",
      "/learn/uva-darden-digital-product-management\n",
      "link 2 len 0\n",
      "link 3 len 0\n",
      "link 4 len 0\n"
     ]
    }
   ],
   "source": [
    "browser = webdriver.Chrome(executable_path='chromedriver.exe')\n",
    "url = \"https://www.coursera.org\"\n",
    "link = []\n",
    "for i in range(1, 5):\n",
    "    browser.get(base_url.format(i))\n",
    "    findable_html = HTML(html=browser.page_source)\n",
    "    li_list = findable_html.find(\"li.ais-InfiniteHits-item a\")\n",
    "    print(f\"link {i} len {len(li_list)}\")\n",
    "    for i in li_list:\n",
    "        print(i.attrs[\"href\"])\n",
    "        link.append(url + i.attrs[\"href\"])\n",
    "    time.sleep(2)"
   ]
  },
  {
   "cell_type": "code",
   "execution_count": 7,
   "metadata": {},
   "outputs": [
    {
     "data": {
      "text/plain": [
       "1000"
      ]
     },
     "execution_count": 7,
     "metadata": {},
     "output_type": "execute_result"
    }
   ],
   "source": [
    "len(link)"
   ]
  },
  {
   "cell_type": "code",
   "execution_count": 8,
   "metadata": {},
   "outputs": [],
   "source": [
    "print('\\n'.join(link).strip(),end='', file=open(\"temp.txt\",mode='w'))"
   ]
  },
  {
   "cell_type": "code",
   "execution_count": null,
   "metadata": {},
   "outputs": [],
   "source": []
  }
 ],
 "metadata": {
  "kernelspec": {
   "display_name": "'Python Interactive'",
   "language": "python",
   "name": "0db5e6a1-fb92-4d8f-bd0b-3058af06c3e3"
  },
  "language_info": {
   "codemirror_mode": {
    "name": "ipython",
    "version": 3
   },
   "file_extension": ".py",
   "mimetype": "text/x-python",
   "name": "python",
   "nbconvert_exporter": "python",
   "pygments_lexer": "ipython3",
   "version": "3.7.2"
  }
 },
 "nbformat": 4,
 "nbformat_minor": 4
}
