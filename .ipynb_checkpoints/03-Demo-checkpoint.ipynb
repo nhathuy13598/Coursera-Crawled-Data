{
 "cells": [
  {
   "cell_type": "markdown",
   "metadata": {},
   "source": [
    "# Tiếp tục ví dụ buổi trước"
   ]
  },
  {
   "cell_type": "code",
   "execution_count": 1,
   "metadata": {},
   "outputs": [
    {
     "data": {
      "text/plain": [
       "True"
      ]
     },
     "execution_count": 1,
     "metadata": {},
     "output_type": "execute_result"
    }
   ],
   "source": [
    "import urllib.robotparser\n",
    "rp = urllib.robotparser.RobotFileParser()\n",
    "rp.set_url('https://careerbuilder.vn/robots.txt')\n",
    "rp.read()\n",
    "rp.can_fetch('*', 'https://careerbuilder.vn/viec-lam/data-science-k-vi.html')\n",
    "# Kết quả sẽ là True hoặc False"
   ]
  },
  {
   "cell_type": "code",
   "execution_count": 2,
   "metadata": {},
   "outputs": [],
   "source": [
    "from requests_html import HTMLSession, HTML"
   ]
  },
  {
   "cell_type": "code",
   "execution_count": 3,
   "metadata": {},
   "outputs": [],
   "source": [
    "session = HTMLSession()"
   ]
  },
  {
   "cell_type": "code",
   "execution_count": 4,
   "metadata": {},
   "outputs": [],
   "source": [
    "r = session.get('https://careerbuilder.vn/viec-lam/data-scientist-k-vi.html')"
   ]
  },
  {
   "cell_type": "code",
   "execution_count": 5,
   "metadata": {},
   "outputs": [
    {
     "name": "stdout",
     "output_type": "stream",
     "text": [
      "13\n",
      "https://careerbuilder.vn/vi/tim-viec-lam/data-scientist.35B28A28.html\n",
      "https://careerbuilder.vn/vi/tim-viec-lam/data-analyst-data-scientist.35B2FBEC.html\n",
      "https://careerbuilder.vn/vi/tim-viec-lam/data-scientist-data-platform.35B2B8C7.html\n",
      "https://careerbuilder.vn/vi/tim-viec-lam/fresher-data-scientist.35B2FBAA.html\n",
      "https://careerbuilder.vn/vi/tim-viec-lam/data-scientist-engineer.35B2FAFF.html\n",
      "https://careerbuilder.vn/vi/tim-viec-lam/senior-data-scientist.35B2C1B4.html\n",
      "https://careerbuilder.vn/vi/tim-viec-lam/ai-engineer.35B2CFA2.html\n",
      "https://careerbuilder.vn/vi/tim-viec-lam/senior-data-analyst-marketing-role.35B279FE.html\n",
      "https://careerbuilder.vn/vi/tim-viec-lam/data-platform-frontend-developer.35B2AA24.html\n",
      "https://careerbuilder.vn/vi/tim-viec-lam/cloud-architect.35B2BE3B.html\n",
      "https://careerbuilder.vn/vi/tim-viec-lam/hcm-_fresher-data-engineer-scala-java-python.35B2E48F.html\n",
      "https://careerbuilder.vn/vi/tim-viec-lam/development-lead-scrum-master.35B2BE37.html\n",
      "https://careerbuilder.vn/vi/tim-viec-lam/business-intelligence-manager.35B2FED7.html\n"
     ]
    }
   ],
   "source": [
    "f = open('jobs.csv', 'w', encoding='utf-8')\n",
    "posts = r.html.find('dd')\n",
    "print(len(posts))\n",
    "\n",
    "for post in posts:\n",
    "    title = post.find('.job', first=True).text\n",
    "#     print(title)\n",
    "\n",
    "    company = post.find('.namecom', first=True).text\n",
    "#     print(company)\n",
    "\n",
    "    location = post.find('.location', first=True).text\n",
    "#     print(location)\n",
    "    \n",
    "    salary = post.find('.salary', first=True).text\n",
    "    salary = salary.replace('Lương: ', '')\n",
    "#     print(salary)\n",
    "    \n",
    "    date = post.find('.dateposted', first=True).text\n",
    "    date = date.replace('Ngày cập nhật: ', '')\n",
    "#     print(date)\n",
    "    \n",
    "    link = post.find('.job a', first=True).attrs['href']\n",
    "    print(link)\n",
    "    \n",
    "    r1 = session.get(link)\n",
    "    full_text = HTML(html=r1.html.find('html', clean=True, first=True).html).text\n",
    "    full_text = full_text.replace('\\n', '>>')\n",
    "#     print(full_text)\n",
    "    \n",
    "#     print()\n",
    "\n",
    "    f.write(f'{title}\\t{company}\\t{location}\\t{salary}\\t{date}\\t{link}\\t{full_text}\\n')\n",
    "\n",
    "f.close()"
   ]
  },
  {
   "cell_type": "code",
   "execution_count": 6,
   "metadata": {},
   "outputs": [],
   "source": [
    "f = open('jobs.csv', 'r', encoding='utf-8')\n",
    "jobs = f.readlines()\n",
    "f.close()"
   ]
  },
  {
   "cell_type": "code",
   "execution_count": 7,
   "metadata": {},
   "outputs": [
    {
     "data": {
      "text/plain": [
       "{'python': 9,\n",
       " 'r': 5,\n",
       " 'sql': 6,\n",
       " 'c': 4,\n",
       " 'c++': 1,\n",
       " 'c#': 1,\n",
       " 'java': 5,\n",
       " 'excel': 2}"
      ]
     },
     "execution_count": 7,
     "metadata": {},
     "output_type": "execute_result"
    }
   ],
   "source": [
    "import re\n",
    "\n",
    "language_counts = {'python': 0, 'r': 0, 'sql': 0, 'c': 0, 'c++': 0, 'c#': 0, 'java': 0, 'excel': 0}\n",
    "\n",
    "for job in jobs:\n",
    "    full_text = job.split('\\t')[-1]\n",
    "    full_text = full_text.lower()\n",
    "    word_set = set(re.findall(r'[\\w+#]+', full_text))\n",
    "#     print(len(word_set))\n",
    "    for language in language_counts.keys():\n",
    "        if language in word_set:\n",
    "            language_counts[language] += 1\n",
    "language_counts"
   ]
  },
  {
   "cell_type": "markdown",
   "metadata": {},
   "source": [
    "# Trang web có JavaScript"
   ]
  },
  {
   "cell_type": "code",
   "execution_count": 8,
   "metadata": {},
   "outputs": [
    {
     "name": "stdout",
     "output_type": "stream",
     "text": [
      "<!DOCTYPE html>\n",
      "<html>\n",
      "<head>\n",
      "  <meta charset=\"utf-8\">\n",
      "  <title>Javascript scraping test</title>\n",
      "</head>\n",
      "<body>\n",
      "  <p id='intro-text'>No javascript support</p>\n",
      "<script type=\"text/javascript\">\n",
      "    document.getElementById('intro-text').innerHTML = 'Yay! Supports javascript';\n",
      "</script>\n",
      "</body>\n",
      "</html>\n"
     ]
    },
    {
     "ename": "RuntimeError",
     "evalue": "Cannot use HTMLSession within an existing event loop. Use AsyncHTMLSession instead.",
     "output_type": "error",
     "traceback": [
      "\u001b[1;31m---------------------------------------------------------------------------\u001b[0m",
      "\u001b[1;31mRuntimeError\u001b[0m                              Traceback (most recent call last)",
      "\u001b[1;32m<ipython-input-8-0126b40aa6c9>\u001b[0m in \u001b[0;36m<module>\u001b[1;34m\u001b[0m\n\u001b[0;32m      4\u001b[0m \u001b[0mr\u001b[0m \u001b[1;33m=\u001b[0m \u001b[0msession\u001b[0m\u001b[1;33m.\u001b[0m\u001b[0mget\u001b[0m\u001b[1;33m(\u001b[0m\u001b[1;34m'http://avi.im/stuff/js-or-no-js.html'\u001b[0m\u001b[1;33m)\u001b[0m\u001b[1;33m\u001b[0m\u001b[1;33m\u001b[0m\u001b[0m\n\u001b[0;32m      5\u001b[0m \u001b[0mprint\u001b[0m\u001b[1;33m(\u001b[0m\u001b[0mr\u001b[0m\u001b[1;33m.\u001b[0m\u001b[0mhtml\u001b[0m\u001b[1;33m.\u001b[0m\u001b[0mhtml\u001b[0m\u001b[1;33m)\u001b[0m\u001b[1;33m\u001b[0m\u001b[1;33m\u001b[0m\u001b[0m\n\u001b[1;32m----> 6\u001b[1;33m \u001b[0mr\u001b[0m\u001b[1;33m.\u001b[0m\u001b[0mhtml\u001b[0m\u001b[1;33m.\u001b[0m\u001b[0mrender\u001b[0m\u001b[1;33m(\u001b[0m\u001b[1;33m)\u001b[0m \u001b[1;31m# Không chạy được ở Jupyter Notebook\u001b[0m\u001b[1;33m\u001b[0m\u001b[1;33m\u001b[0m\u001b[0m\n\u001b[0m\u001b[0;32m      7\u001b[0m \u001b[0mr\u001b[0m\u001b[1;33m.\u001b[0m\u001b[0mhtml\u001b[0m\u001b[1;33m.\u001b[0m\u001b[0mfind\u001b[0m\u001b[1;33m(\u001b[0m\u001b[1;34m'#intro-text'\u001b[0m\u001b[1;33m,\u001b[0m \u001b[0mfirst\u001b[0m\u001b[1;33m=\u001b[0m\u001b[1;32mTrue\u001b[0m\u001b[1;33m)\u001b[0m\u001b[1;33m.\u001b[0m\u001b[0mtext\u001b[0m\u001b[1;33m\u001b[0m\u001b[1;33m\u001b[0m\u001b[0m\n",
      "\u001b[1;32m~\\Anaconda3\\lib\\site-packages\\requests_html.py\u001b[0m in \u001b[0;36mrender\u001b[1;34m(self, retries, script, wait, scrolldown, sleep, reload, timeout, keep_page)\u001b[0m\n\u001b[0;32m    584\u001b[0m         \"\"\"\n\u001b[0;32m    585\u001b[0m \u001b[1;33m\u001b[0m\u001b[0m\n\u001b[1;32m--> 586\u001b[1;33m         \u001b[0mself\u001b[0m\u001b[1;33m.\u001b[0m\u001b[0mbrowser\u001b[0m \u001b[1;33m=\u001b[0m \u001b[0mself\u001b[0m\u001b[1;33m.\u001b[0m\u001b[0msession\u001b[0m\u001b[1;33m.\u001b[0m\u001b[0mbrowser\u001b[0m  \u001b[1;31m# Automatically create a event loop and browser\u001b[0m\u001b[1;33m\u001b[0m\u001b[1;33m\u001b[0m\u001b[0m\n\u001b[0m\u001b[0;32m    587\u001b[0m         \u001b[0mcontent\u001b[0m \u001b[1;33m=\u001b[0m \u001b[1;32mNone\u001b[0m\u001b[1;33m\u001b[0m\u001b[1;33m\u001b[0m\u001b[0m\n\u001b[0;32m    588\u001b[0m \u001b[1;33m\u001b[0m\u001b[0m\n",
      "\u001b[1;32m~\\Anaconda3\\lib\\site-packages\\requests_html.py\u001b[0m in \u001b[0;36mbrowser\u001b[1;34m(self)\u001b[0m\n\u001b[0;32m    727\u001b[0m             \u001b[0mself\u001b[0m\u001b[1;33m.\u001b[0m\u001b[0mloop\u001b[0m \u001b[1;33m=\u001b[0m \u001b[0masyncio\u001b[0m\u001b[1;33m.\u001b[0m\u001b[0mget_event_loop\u001b[0m\u001b[1;33m(\u001b[0m\u001b[1;33m)\u001b[0m\u001b[1;33m\u001b[0m\u001b[1;33m\u001b[0m\u001b[0m\n\u001b[0;32m    728\u001b[0m             \u001b[1;32mif\u001b[0m \u001b[0mself\u001b[0m\u001b[1;33m.\u001b[0m\u001b[0mloop\u001b[0m\u001b[1;33m.\u001b[0m\u001b[0mis_running\u001b[0m\u001b[1;33m(\u001b[0m\u001b[1;33m)\u001b[0m\u001b[1;33m:\u001b[0m\u001b[1;33m\u001b[0m\u001b[1;33m\u001b[0m\u001b[0m\n\u001b[1;32m--> 729\u001b[1;33m                 \u001b[1;32mraise\u001b[0m \u001b[0mRuntimeError\u001b[0m\u001b[1;33m(\u001b[0m\u001b[1;34m\"Cannot use HTMLSession within an existing event loop. Use AsyncHTMLSession instead.\"\u001b[0m\u001b[1;33m)\u001b[0m\u001b[1;33m\u001b[0m\u001b[1;33m\u001b[0m\u001b[0m\n\u001b[0m\u001b[0;32m    730\u001b[0m             \u001b[0mself\u001b[0m\u001b[1;33m.\u001b[0m\u001b[0m_browser\u001b[0m \u001b[1;33m=\u001b[0m \u001b[0mself\u001b[0m\u001b[1;33m.\u001b[0m\u001b[0mloop\u001b[0m\u001b[1;33m.\u001b[0m\u001b[0mrun_until_complete\u001b[0m\u001b[1;33m(\u001b[0m\u001b[0msuper\u001b[0m\u001b[1;33m(\u001b[0m\u001b[1;33m)\u001b[0m\u001b[1;33m.\u001b[0m\u001b[0mbrowser\u001b[0m\u001b[1;33m)\u001b[0m\u001b[1;33m\u001b[0m\u001b[1;33m\u001b[0m\u001b[0m\n\u001b[0;32m    731\u001b[0m         \u001b[1;32mreturn\u001b[0m \u001b[0mself\u001b[0m\u001b[1;33m.\u001b[0m\u001b[0m_browser\u001b[0m\u001b[1;33m\u001b[0m\u001b[1;33m\u001b[0m\u001b[0m\n",
      "\u001b[1;31mRuntimeError\u001b[0m: Cannot use HTMLSession within an existing event loop. Use AsyncHTMLSession instead."
     ]
    }
   ],
   "source": [
    "from requests_html import HTMLSession\n",
    "\n",
    "session = HTMLSession()\n",
    "r = session.get('http://avi.im/stuff/js-or-no-js.html')\n",
    "print(r.html.html)\n",
    "r.html.render() # Không chạy được ở Jupyter Notebook\n",
    "r.html.find('#intro-text', first=True).text"
   ]
  },
  {
   "cell_type": "code",
   "execution_count": 9,
   "metadata": {},
   "outputs": [],
   "source": [
    "# Trước tiên, bạn phải cài Selenium và Chrome drivers \n",
    "# (xem mục 1.2 và 1.3 ở đây: https://selenium-python.readthedocs.io/installation.html)\n",
    "from selenium import webdriver"
   ]
  },
  {
   "cell_type": "code",
   "execution_count": 10,
   "metadata": {},
   "outputs": [],
   "source": [
    "browser = webdriver.Chrome(executable_path='chromedriver.exe') # Cần để file 'chromedriver.exe'\n",
    "                                                               # cùng thư mục với file notebook"
   ]
  },
  {
   "cell_type": "code",
   "execution_count": 11,
   "metadata": {},
   "outputs": [],
   "source": [
    "browser.get('http://avi.im/stuff/js-or-no-js.html')"
   ]
  },
  {
   "cell_type": "code",
   "execution_count": 12,
   "metadata": {},
   "outputs": [
    {
     "name": "stdout",
     "output_type": "stream",
     "text": [
      "<html><head>\n",
      "  <meta charset=\"utf-8\">\n",
      "  <title>Javascript scraping test</title>\n",
      "</head>\n",
      "<body>\n",
      "  <p id=\"intro-text\">Yay! Supports javascript</p>\n",
      "<script type=\"text/javascript\">\n",
      "    document.getElementById('intro-text').innerHTML = 'Yay! Supports javascript';\n",
      "</script>\n",
      "\n",
      "</body></html>\n"
     ]
    }
   ],
   "source": [
    "print(browser.page_source)"
   ]
  },
  {
   "cell_type": "code",
   "execution_count": 13,
   "metadata": {},
   "outputs": [
    {
     "data": {
      "text/plain": [
       "'Yay! Supports javascript'"
      ]
     },
     "execution_count": 13,
     "metadata": {},
     "output_type": "execute_result"
    }
   ],
   "source": [
    "# Giao lại cho Requests-HTML\n",
    "from requests_html import HTML\n",
    "\n",
    "findable_html = HTML(html=browser.page_source)\n",
    "findable_html.find('#intro-text', first=True).text"
   ]
  },
  {
   "cell_type": "markdown",
   "metadata": {},
   "source": [
    "# Trang web đòi hỏi phải tương tác"
   ]
  },
  {
   "cell_type": "code",
   "execution_count": 14,
   "metadata": {
    "scrolled": true
   },
   "outputs": [],
   "source": [
    "from selenium import webdriver\n",
    "from selenium.webdriver.common.keys import Keys"
   ]
  },
  {
   "cell_type": "code",
   "execution_count": 15,
   "metadata": {},
   "outputs": [
    {
     "name": "stdout",
     "output_type": "stream",
     "text": [
      "2019-09-24\n",
      "24 Sep\n"
     ]
    }
   ],
   "source": [
    "# Ngày mai là ngày bao nhiêu?\n",
    "from datetime import date, timedelta\n",
    "\n",
    "today = date.today()\n",
    "tomorrow = today + timedelta(1)\n",
    "print(tomorrow)\n",
    "tomorrow_day = str(tomorrow.day)\n",
    "tomorow_month = tomorrow.strftime('%b')\n",
    "print(tomorrow_day, tomorow_month)"
   ]
  },
  {
   "cell_type": "code",
   "execution_count": 16,
   "metadata": {},
   "outputs": [],
   "source": [
    "# Mở Chrome và cho full màn hình\n",
    "browser = webdriver.Chrome()\n",
    "browser.maximize_window()"
   ]
  },
  {
   "cell_type": "code",
   "execution_count": 17,
   "metadata": {},
   "outputs": [],
   "source": [
    "# Mở trang chủ của Vietjet\n",
    "browser.get('https://www.vietjetair.com/Sites/Web/vi-VN/Home')"
   ]
  },
  {
   "cell_type": "code",
   "execution_count": 18,
   "metadata": {},
   "outputs": [],
   "source": [
    "# Tắt cửa sổ quảng cáo nếu có bằng cách ấn phím Esc \n",
    "browser.find_element_by_tag_name('html').send_keys(Keys.ESCAPE)"
   ]
  },
  {
   "cell_type": "code",
   "execution_count": 19,
   "metadata": {},
   "outputs": [],
   "source": [
    "# Chọn điểm khởi hành là TP HCM \n",
    "locations = browser.find_element_by_id('selectOrigin').find_elements_by_tag_name('option')\n",
    "for location in locations:\n",
    "    if 'SGN' in location.text:\n",
    "        location.click()\n",
    "        break"
   ]
  },
  {
   "cell_type": "code",
   "execution_count": 20,
   "metadata": {},
   "outputs": [],
   "source": [
    "# Chọn điểm đến là Đà Nẵng\n",
    "locations = browser.find_element_by_id('selectDestination').find_elements_by_tag_name('option')\n",
    "for location in locations:\n",
    "    if \"DAD\" in location.text:\n",
    "        location.click()"
   ]
  },
  {
   "cell_type": "code",
   "execution_count": 21,
   "metadata": {},
   "outputs": [],
   "source": [
    "# Chọn mua vé một chiều\n",
    "browser.find_element_by_id('ctl00_UcRightV31_RbOneWay').click()"
   ]
  },
  {
   "cell_type": "code",
   "execution_count": 22,
   "metadata": {},
   "outputs": [],
   "source": [
    "# Click chỗ ngày đi để hiện lên calendar để chọn\n",
    "browser.find_element_by_id('ctl00_UcRightV31_TxtDepartDate').click()"
   ]
  },
  {
   "cell_type": "code",
   "execution_count": 23,
   "metadata": {},
   "outputs": [],
   "source": [
    "# Chọn tháng đi\n",
    "months = browser.find_element_by_id('ui-datepicker-div').find_elements_by_tag_name('option')\n",
    "for month in months:\n",
    "    if month.text == tomorow_month:\n",
    "        month.click()\n",
    "        break"
   ]
  },
  {
   "cell_type": "code",
   "execution_count": 24,
   "metadata": {},
   "outputs": [],
   "source": [
    "# Chọn ngày đi\n",
    "days = browser.find_element_by_id('ui-datepicker-div').find_elements_by_tag_name('td')\n",
    "for day in days:\n",
    "    if day.text == tomorrow_day:\n",
    "        day.click()\n",
    "        break"
   ]
  },
  {
   "cell_type": "code",
   "execution_count": 25,
   "metadata": {},
   "outputs": [],
   "source": [
    "# Ấn nút tìm chuyến bay\n",
    "browser.find_element_by_id('ctl00_UcRightV31_BtSearch').click()"
   ]
  },
  {
   "cell_type": "code",
   "execution_count": 26,
   "metadata": {},
   "outputs": [],
   "source": [
    "# Giao lại cho Requests-HTML\n",
    "# ..."
   ]
  }
 ],
 "metadata": {
  "kernelspec": {
   "display_name": "Python 3",
   "language": "python",
   "name": "python3"
  },
  "language_info": {
   "codemirror_mode": {
    "name": "ipython",
    "version": 3
   },
   "file_extension": ".py",
   "mimetype": "text/x-python",
   "name": "python",
   "nbconvert_exporter": "python",
   "pygments_lexer": "ipython3",
   "version": "3.7.3"
  }
 },
 "nbformat": 4,
 "nbformat_minor": 4
}
