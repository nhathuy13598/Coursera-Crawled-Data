{
 "cells": [
  {
   "cell_type": "markdown",
   "metadata": {},
   "source": [
    "# Import các thư viện"
   ]
  },
  {
   "cell_type": "code",
   "execution_count": 1,
   "metadata": {},
   "outputs": [],
   "source": [
    "from selenium import webdriver\n",
    "from requests_html import HTML\n",
    "import time"
   ]
  },
  {
   "cell_type": "markdown",
   "metadata": {},
   "source": [
    "# Mô tả file data.csv"
   ]
  },
  {
   "cell_type": "markdown",
   "metadata": {},
   "source": [
    "#### File data.csv có các trường cách nhau bằng tab `\\t`\n",
    "\n",
    "\n",
    "- `id`: ID của khóa học\n",
    "-`title`: Tên của khóa học\n",
    "-`provider`: Tên nơi cung cấp khóa học, nếu có nhiều hơn một nơi thì sẽ ngăn cách nhau bằng dấu `,`\n",
    "-`rating`: Rating của khóa học\n",
    "-`num_rate`: Số lượng người rating\n",
    "-`level`: Level của khóa học, thông thường thì sẽ có `level` cho mỗi trang web của khóa học, nếu không có trong trang web của khóa học thì coursera đã quy định `level = mixed`\n",
    "-`duration`: Thời gian để hoàn thành khóa học\n",
    "-`language`: Ngôn ngữ mà khóa học sử dụng\n",
    "-`skills`: Những kỹ năng mà khóa học hướng đến\n",
    "-**`enroll`**: Số lượng người tham gia khóa học. Nếu không có số lượng người tham gia khóa học đó thì ta sẽ không crawl"
   ]
  },
  {
   "cell_type": "markdown",
   "metadata": {},
   "source": [
    "# Khởi tạo browser và crawl dữ liệu"
   ]
  },
  {
   "cell_type": "code",
   "execution_count": 22,
   "metadata": {},
   "outputs": [
    {
     "name": "stdout",
     "output_type": "stream",
     "text": [
      "enroll =  91,800\n",
      "name =  IBM Data Science Professional Certificate\n",
      "[<Element 'div' class=('Container_jd01j4-o_O-container_17wca8l', 'h-100', 'p-y-3', 'p-x-2') style='min-height:250px;' data-reactid='110'>, <Element 'div' class=('Row_nvwp6p',) data-reactid='111'>, <Element 'div' class=('Col_i9j08c-o_O-noGutterCol_18b9ep8-o_O-mdCol6_1rbv01c',) data-reactid='112'>, <Element 'div' class=('BreadCrumb_1olbr68-o_O-Breadcrumb_y6hf3w',) data-reactid='113'>, <Element 'div' class=('BreadcrumbItem_1pp1zxi',) data-reactid='114'>, <Element 'div' class=('BreadcrumbItem_1pp1zxi',) data-reactid='120'>, <Element 'div' class=('BreadcrumbItem_1pp1zxi',) data-reactid='126'>, <Element 'div' class=('Box_120drhm-o_O-startAlign_jd8lz2-o_O-displayflex_poyjc-o_O-columnDirection_ia4371', 'BannerTitle', 'm-b-2', 'text-xs-left') data-reactid='128'>, <Element 'div' class=('courseRatingContainer_1g3e6m',) data-reactid='131'>, <Element 'div' data-reactid='132'>, <Element 'div' >, <Element 'div' class=('BannerEnroll',) data-e2e='banner'>, <Element 'div' class=('Box_120drhm-o_O-centerAlign_19zvu2s-o_O-displayflex_poyjc',)>, <Element 'div' class=('EnrollButton',)>, <Element 'div' class=('d-inline-block',)>, <Element 'div' >, <Element 'div' id='start-date-string' class=('startdate', 'm-t-1s', 'rc-StartDateString', 'font-xs')>, <Element 'div' class=('m-l-2',)>, <Element 'div' style='font-size: 0.75rem; font-weight: bold; margin: 4px 0px; max-width: 400px;'>, <Element 'div' class=('rc-FinaidLink', 'reset')>, <Element 'div' class=('m-t-1',) data-reactid='134'>, <Element 'div' class=('rc-ProductMetrics',) data-reactid='135'>, <Element 'div' class=('enrolledLargeFont_16g5ucx',) style='color:#FFF;' data-reactid='136'>, <Element 'div' class=('partnerColumn_13j2ml1-o_O-Col_i9j08c-o_O-noGutterCol_18b9ep8-o_O-mdCol6_1rbv01c',) data-reactid='141'>, <Element 'div' class=('partnerBanner_10e5gws-o_O-Box_120drhm-o_O-displayflex_poyjc',) data-reactid='142'>, <Element 'div' class=('color-white', 'm-r-1', 'm-b-1s') data-reactid='143'>, <Element 'div' data-reactid='145'>, <Element 'div' class=('m-b-1s', 'm-r-1') data-reactid='146'>]\n"
     ]
    }
   ],
   "source": [
    "output_file = open(\"data.csv\", mode='w', encoding='utf-8')\n",
    "output_file.write(\"id\\ttitle\\tprovider\\trating\\tnum_rate\\tlevel\\tduration\\tlanguage\\tskills\\tenroll\\n\")\n",
    "input_file = open(\"course_link.txt\", \"r\", encoding=\"utf-8\")\n",
    "\n",
    "browser = webdriver.Chrome(executable_path='chromedriver.exe')\n",
    "for index, line in enumerate(input_file):\n",
    "    # Go to link\n",
    "    browser.get(line.strip())\n",
    "    #browser.get(\"https://www.coursera.org/learn/organizatsionnaya-diagnostika\")\n",
    "    \n",
    "    # Parse HTML\n",
    "    r = HTML(html=browser.page_source)\n",
    "    \n",
    "    \n",
    "    # Check number of enroll\n",
    "    enroll = r.find(\"div.rc-ProductMetrics strong span\")\n",
    "    if enroll == []:\n",
    "        continue\n",
    "    enroll = enroll[0].text\n",
    "    print(\"enroll = \", enroll)\n",
    "    \n",
    "    # Course Name\n",
    "    e = r.find(\".Banner\")[0]\n",
    "    name = e.find(\"h1\")[0].text\n",
    "    print(\"name = \",name)\n",
    "\n",
    "    # University\n",
    "    schoolBox = e.find(\".partnerBanner_np2ice-o_O-Box_120drhm-o_O-displayflex_poyjc\")[0]\n",
    "    if schoolBox.find(\"img\") != []:\n",
    "        output_file.write(schoolBox.find(\"img\")[0].attrs[\"alt\"] + '\\t')\n",
    "    else:\n",
    "        schoolList = schoolBox.find(\"span\")\n",
    "        for school in schoolList:\n",
    "            output_file.write(school.text + ',')\n",
    "        output_file.write('\\t')\n",
    "\n",
    "    # Score and Rating\n",
    "    spanlist = e.find(\"li span\")\n",
    "    if len(spanlist) != 0:\n",
    "        output_file.write(spanlist[0].text + '\\t')\n",
    "        output_file.write(spanlist[1].text.replace(\" ratings\",\"\"))\n",
    "    else:\n",
    "        output_file.write('0\\t')\n",
    "        output_file.write('0\\t')\n",
    "\n",
    "\n",
    "    output_file.write('\\n')\n",
    "    time.sleep(1)\n",
    "    break\n",
    "output_file.close()\n",
    "input_file.close()"
   ]
  },
  {
   "cell_type": "code",
   "execution_count": null,
   "metadata": {},
   "outputs": [],
   "source": []
  }
 ],
 "metadata": {
  "kernelspec": {
   "display_name": "'Python Interactive'",
   "language": "python",
   "name": "0db5e6a1-fb92-4d8f-bd0b-3058af06c3e3"
  },
  "language_info": {
   "codemirror_mode": {
    "name": "ipython",
    "version": 3
   },
   "file_extension": ".py",
   "mimetype": "text/x-python",
   "name": "python",
   "nbconvert_exporter": "python",
   "pygments_lexer": "ipython3",
   "version": "3.7.2"
  }
 },
 "nbformat": 4,
 "nbformat_minor": 4
}
