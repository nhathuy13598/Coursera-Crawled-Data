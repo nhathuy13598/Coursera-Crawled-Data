{
 "cells": [
  {
   "cell_type": "markdown",
   "metadata": {},
   "source": [
    "# Import selenium"
   ]
  },
  {
   "cell_type": "code",
   "execution_count": 1,
   "metadata": {},
   "outputs": [],
   "source": [
    "from selenium import webdriver\n",
    "from selenium.webdriver.common.keys import Keys\n",
    "from requests_html import HTML\n",
    "import time"
   ]
  },
  {
   "cell_type": "markdown",
   "metadata": {},
   "source": [
    "# Tạo browser"
   ]
  },
  {
   "cell_type": "code",
   "execution_count": 2,
   "metadata": {},
   "outputs": [],
   "source": [
    "browser = webdriver.Chrome(executable_path='chromedriver.exe')"
   ]
  },
  {
   "cell_type": "markdown",
   "metadata": {},
   "source": [
    "# Base_url của trang web cần crawl\n",
    "Đây là trang web kết quả khi search từ khóa management được lọc lại với điều kiện Learning product là Courses, Specializations và Professional Certificates. Lý do chọn các loại sản phẩm này là vì các sản phẩm khác không có số lượng người đăng ký, nhãn mà tụi em muốn dự đoán "
   ]
  },
  {
   "cell_type": "code",
   "execution_count": 3,
   "metadata": {},
   "outputs": [],
   "source": [
    "base_url = \"https://www.coursera.org/search?query=management&facets=skillNameMultiTag%2CjobTitleMultiTag%2CdifficultyLevel\\\n",
    "Tag%2Clanguages%2CentityTypeTag%3ACourses%2CpartnerMultiTag%2CcategoryMultiTag%3Abusiness%2CsubcategoryMultiTag&\\\n",
    "sortField=&page={0}&configure%5BclickAnalytics%5D=true&indices%5Bprod_all_products_term_optimization%5D%5BrefinementList%5D%5\\\n",
    "BentityTypeDescription%5D%5B0%5D=Courses&indices%5Bprod_all_products_term_optimization%5D%5BrefinementList%5D%5\\\n",
    "BentityTypeDescription%5D%5B1%5D=Specializations&indices%5Bprod_all_products_term_optimization%5D%5BrefinementList%5D%5\\\n",
    "BentityTypeDescription%5D%5B2%5D=Professional%20Certificates&indices%5Bprod_all_products_term_optimization%5D%5Bpage%5D=1&indices%5B\\\n",
    "prod_all_products_term_optimization%5D%5Bconfigure%5D%5BclickAnalytics%5D=true&indices%5Bprod_all_products_term_optimization%5D%5B\\\n",
    "configure%5D%5BhitsPerPage%5D=10\""
   ]
  },
  {
   "cell_type": "markdown",
   "metadata": {},
   "source": [
    "# Lấy đường link đến các khóa học\n",
    "Ta thấy trang kết quả có 100 trang nên ta sẽ cho chạy qua hết 100 trang này"
   ]
  },
  {
   "cell_type": "code",
   "execution_count": 6,
   "metadata": {},
   "outputs": [
    {
     "name": "stdout",
     "output_type": "stream",
     "text": [
      "link 1 len 10\n",
      "link 2 len 10\n",
      "link 3 len 10\n",
      "link 4 len 10\n",
      "link 5 len 10\n",
      "link 6 len 10\n",
      "link 7 len 10\n",
      "link 8 len 10\n",
      "link 9 len 10\n",
      "link 10 len 10\n",
      "link 11 len 10\n",
      "link 12 len 10\n",
      "link 13 len 10\n",
      "link 14 len 10\n",
      "link 15 len 10\n",
      "link 16 len 10\n",
      "link 17 len 10\n",
      "link 18 len 10\n",
      "link 19 len 10\n",
      "link 20 len 10\n",
      "link 21 len 10\n",
      "link 22 len 10\n",
      "link 23 len 10\n",
      "link 24 len 10\n",
      "link 25 len 10\n",
      "link 26 len 10\n",
      "link 27 len 10\n",
      "link 28 len 10\n",
      "link 29 len 10\n",
      "link 30 len 10\n",
      "link 31 len 10\n",
      "link 32 len 10\n",
      "link 33 len 10\n",
      "link 34 len 10\n",
      "link 35 len 10\n",
      "link 36 len 10\n",
      "link 37 len 10\n",
      "link 38 len 10\n",
      "link 39 len 10\n",
      "link 40 len 10\n",
      "link 41 len 10\n",
      "link 42 len 10\n",
      "link 43 len 10\n",
      "link 44 len 10\n",
      "link 45 len 10\n",
      "link 46 len 10\n",
      "link 47 len 10\n",
      "link 48 len 10\n",
      "link 49 len 10\n",
      "link 50 len 10\n",
      "link 51 len 10\n",
      "link 52 len 10\n",
      "link 53 len 10\n",
      "link 54 len 10\n",
      "link 55 len 10\n",
      "link 56 len 10\n",
      "link 57 len 10\n",
      "link 58 len 10\n",
      "link 59 len 10\n",
      "link 60 len 10\n",
      "link 61 len 10\n",
      "link 62 len 10\n",
      "link 63 len 10\n",
      "link 64 len 10\n",
      "link 65 len 10\n",
      "link 66 len 10\n",
      "link 67 len 10\n",
      "link 68 len 10\n",
      "link 69 len 10\n",
      "link 70 len 10\n",
      "link 71 len 10\n",
      "link 72 len 10\n",
      "link 73 len 10\n",
      "link 74 len 10\n",
      "link 75 len 10\n",
      "link 76 len 10\n",
      "link 77 len 10\n",
      "link 78 len 10\n",
      "link 79 len 10\n",
      "link 80 len 10\n",
      "link 81 len 10\n",
      "link 82 len 10\n",
      "link 83 len 10\n",
      "link 84 len 10\n",
      "link 85 len 10\n",
      "link 86 len 10\n",
      "link 87 len 10\n",
      "link 88 len 10\n",
      "link 89 len 10\n",
      "link 90 len 10\n",
      "link 91 len 10\n",
      "link 92 len 10\n",
      "link 93 len 10\n",
      "link 94 len 10\n",
      "link 95 len 10\n",
      "link 96 len 10\n",
      "link 97 len 10\n",
      "link 98 len 10\n",
      "link 99 len 10\n",
      "link 100 len 10\n"
     ]
    }
   ],
   "source": [
    "url = \"https://www.coursera.org\"\n",
    "link = []\n",
    "for i in range(1, 101):\n",
    "    browser.get(base_url.format(i))\n",
    "    findable_html = HTML(html=browser.page_source)\n",
    "    li_list = findable_html.find(\"li.ais-InfiniteHits-item a\")\n",
    "    print(f\"link {i} len {len(li_list)}\")\n",
    "    for i in li_list:\n",
    "        link.append(url + i.attrs[\"href\"])\n",
    "    time.sleep(0.5)"
   ]
  },
  {
   "cell_type": "code",
   "execution_count": 7,
   "metadata": {},
   "outputs": [
    {
     "data": {
      "text/plain": [
       "1000"
      ]
     },
     "execution_count": 7,
     "metadata": {},
     "output_type": "execute_result"
    }
   ],
   "source": [
    "len(link)"
   ]
  },
  {
   "cell_type": "code",
   "execution_count": 8,
   "metadata": {},
   "outputs": [],
   "source": [
    "print('\\n'.join(link).strip(),end='', file=open(\"course_link_2.txt\",mode='w'))"
   ]
  },
  {
   "cell_type": "code",
   "execution_count": null,
   "metadata": {},
   "outputs": [],
   "source": []
  }
 ],
 "metadata": {
  "kernelspec": {
   "display_name": "'Python Interactive'",
   "language": "python",
   "name": "0db5e6a1-fb92-4d8f-bd0b-3058af06c3e3"
  },
  "language_info": {
   "codemirror_mode": {
    "name": "ipython",
    "version": 3
   },
   "file_extension": ".py",
   "mimetype": "text/x-python",
   "name": "python",
   "nbconvert_exporter": "python",
   "pygments_lexer": "ipython3",
   "version": "3.7.2"
  }
 },
 "nbformat": 4,
 "nbformat_minor": 4
}
