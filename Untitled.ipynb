{
 "cells": [
  {
   "cell_type": "code",
   "execution_count": 4,
   "metadata": {},
   "outputs": [],
   "source": [
    "ifile = open(\"course_link.txt\", mode='r', encoding='utf-8')\n",
    "link = set()\n",
    "for line in ifile:\n",
    "    line.replace(\"https://\", \"https:/\").strip()\n",
    "    link.add(line)\n",
    "text = ''.join(link).strip()\n",
    "print(text, file=open(\"url.txt\", mode='w', encoding='utf-8'))"
   ]
  },
  {
   "cell_type": "code",
   "execution_count": null,
   "metadata": {},
   "outputs": [],
   "source": []
  }
 ],
 "metadata": {
  "kernelspec": {
   "display_name": "'Python Interactive'",
   "language": "python",
   "name": "0db5e6a1-fb92-4d8f-bd0b-3058af06c3e3"
  },
  "language_info": {
   "codemirror_mode": {
    "name": "ipython",
    "version": 3
   },
   "file_extension": ".py",
   "mimetype": "text/x-python",
   "name": "python",
   "nbconvert_exporter": "python",
   "pygments_lexer": "ipython3",
   "version": "3.7.2"
  }
 },
 "nbformat": 4,
 "nbformat_minor": 4
}
